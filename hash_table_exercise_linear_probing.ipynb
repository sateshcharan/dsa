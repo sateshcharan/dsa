{
 "cells": [
  {
   "cell_type": "code",
   "execution_count": 66,
   "metadata": {},
   "outputs": [],
   "source": [
    "class hash_table:\n",
    "    def __init__(self):\n",
    "        self.MAX = 10\n",
    "        self.arr = [None for i in range(self.MAX)]\n",
    "\n",
    "    def get_hash(self, key):\n",
    "        h = 0\n",
    "        for char in key:\n",
    "            h += ord(char)\n",
    "        return h % self.MAX\n",
    "\n",
    "    def __setitem__(self, key, val):\n",
    "        h = self.get_hash(key)\n",
    "        original_h = h\n",
    "        while self.arr[h] is not None and self.arr[h][0] != key:\n",
    "            h = (h + 1)%self.MAX\n",
    "            if h == original_h:\n",
    "                print('the table is full')\n",
    "                break\n",
    "        self.arr[h] = (key, val)\n",
    "\n",
    "    def __getitem__(self, key):\n",
    "        h = self.get_hash(key)\n",
    "        original_h = h\n",
    "        while self.arr[h] is not None:\n",
    "            if self.arr[h][0] == key:\n",
    "                return self.arr[h][1]\n",
    "            h = (h + 1)%self.MAX\n",
    "            if h == original_h:\n",
    "                break\n",
    "        raise KeyError(f\"Key '{key}' not found.\")\n",
    "\n",
    "    def __delitem__(self, key):\n",
    "        h = self.get_hash(key)\n",
    "        original_h = h\n",
    "        while self.arr[h] is not None:\n",
    "            if self.arr[h][0] == key:\n",
    "                self.arr[h] = None\n",
    "                return\n",
    "            h = (h+1)%self.MAX\n",
    "            if h == original_h:\n",
    "                break\n",
    "        raise KeyError(f\"Key '{key}' not found.\")\n",
    "                \n",
    "\n",
    "                "
   ]
  },
  {
   "cell_type": "code",
   "execution_count": 67,
   "metadata": {},
   "outputs": [
    {
     "name": "stdout",
     "output_type": "stream",
     "text": [
      "[('march 7', 'value7'), ('march 8', 'value8'), ('march 9', 'value9'), None, None, None, None, None, None, ('march 17', 'value17')]\n",
      "value17\n",
      "[None, ('march 8', 'value8'), ('march 9', 'value9'), None, None, None, None, None, None, ('march 17', 'value17')]\n"
     ]
    }
   ],
   "source": [
    "h = hash_table()\n",
    "h[\"march 7\"] = \"value7\"\n",
    "h[\"march 8\"] = \"value8\"\n",
    "h[\"march 9\"] = \"value9\"\n",
    "h[\"march 17\"] = \"value17\"\n",
    "print(h.arr)\n",
    "print(h[\"march 17\"])\n",
    "del(h['march 7'])\n",
    "print(h.arr)"
   ]
  }
 ],
 "metadata": {
  "kernelspec": {
   "display_name": "Python 3",
   "language": "python",
   "name": "python3"
  },
  "language_info": {
   "codemirror_mode": {
    "name": "ipython",
    "version": 3
   },
   "file_extension": ".py",
   "mimetype": "text/x-python",
   "name": "python",
   "nbconvert_exporter": "python",
   "pygments_lexer": "ipython3",
   "version": "3.13.0"
  }
 },
 "nbformat": 4,
 "nbformat_minor": 2
}
