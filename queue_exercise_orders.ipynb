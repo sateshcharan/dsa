{
 "cells": [
  {
   "cell_type": "code",
   "execution_count": 79,
   "metadata": {},
   "outputs": [],
   "source": [
    "from collections import deque\n",
    "import threading\n",
    "import time"
   ]
  },
  {
   "cell_type": "code",
   "execution_count": 80,
   "metadata": {},
   "outputs": [],
   "source": [
    "\n",
    "class queue:\n",
    "    def __init__(self):\n",
    "        self.buffer = deque()\n",
    "\n",
    "    def enqueue(self, val):\n",
    "        self.buffer.appendleft(val)\n",
    "\n",
    "    def dequeue(self):\n",
    "        self.buffer.pop()\n",
    "\n",
    "    def peek(self):\n",
    "        return self.buffer[-1]\n",
    "\n",
    "    def is_empty(self):\n",
    "        return len(self.buffer) == 0\n",
    "    \n",
    "    def size(self):\n",
    "        return len(self.buffer)"
   ]
  },
  {
   "cell_type": "code",
   "execution_count": null,
   "metadata": {},
   "outputs": [
    {
     "name": "stderr",
     "output_type": "stream",
     "text": [
      "Exception in thread Thread-405 (serve_order):\n",
      "Traceback (most recent call last):\n",
      "  File \"/usr/lib/python3.12/threading.py\", line 1073, in _bootstrap_inner\n",
      "    self.run()\n",
      "  File \"/usr/lib/python3/dist-packages/ipykernel/ipkernel.py\", line 761, in run_closure\n",
      "    _threading_Thread_run(self)\n",
      "  File \"/usr/lib/python3.12/threading.py\", line 1010, in run\n",
      "    self._target(*self._args, **self._kwargs)\n",
      "  File \"/tmp/ipykernel_66638/996682910.py\", line 15, in serve_order\n",
      "  File \"/tmp/ipykernel_66638/4004934571.py\", line 10, in dequeue\n",
      "IndexError: pop from an empty deque\n"
     ]
    },
    {
     "name": "stdout",
     "output_type": "stream",
     "text": [
      "deque(['pizza'])\n",
      "deque(['samosa', 'pizza'])\n",
      "deque(['pasta', 'samosa', 'pizza'])\n",
      "deque(['biryani', 'pasta', 'samosa', 'pizza'])\n",
      "deque(['burger', 'biryani', 'pasta', 'samosa', 'pizza'])\n"
     ]
    }
   ],
   "source": [
    "order_queue = queue()\n",
    "\n",
    "orders = ['pizza','samosa','pasta','biryani','burger']\n",
    "\n",
    "def place_order():\n",
    "    for order in orders:\n",
    "        time.sleep(0.5)\n",
    "        order_queue.enqueue(order)\n",
    "        print(order_queue.buffer)\n",
    "\n",
    "def serve_order():\n",
    "    for order in orders:\n",
    "        time.sleep(0.2)\n",
    "        order_queue.dequeue()\n",
    "        print(order_queue.buffer)\n",
    "    \n",
    "threading.Thread(target=place_order).start()\n",
    "time.sleep(0.1)\n",
    "if order_queue.is_empty is False:\n",
    "    threading.Thread(target=serve_order).start()\n",
    "\n",
    "\n"
   ]
  }
 ],
 "metadata": {
  "kernelspec": {
   "display_name": "Python 3",
   "language": "python",
   "name": "python3"
  },
  "language_info": {
   "codemirror_mode": {
    "name": "ipython",
    "version": 3
   },
   "file_extension": ".py",
   "mimetype": "text/x-python",
   "name": "python",
   "nbconvert_exporter": "python",
   "pygments_lexer": "ipython3",
   "version": "3.12.3"
  }
 },
 "nbformat": 4,
 "nbformat_minor": 2
}
