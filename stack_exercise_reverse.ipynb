{
 "cells": [
  {
   "cell_type": "code",
   "execution_count": 18,
   "metadata": {},
   "outputs": [],
   "source": [
    "from stack import Stack\n"
   ]
  },
  {
   "cell_type": "code",
   "execution_count": 19,
   "metadata": {},
   "outputs": [
    {
     "name": "stdout",
     "output_type": "stream",
     "text": [
      "91-DIVOC ereuqnoc lliw eW\n"
     ]
    }
   ],
   "source": [
    "\n",
    "def reverse_string(string):\n",
    "    s = Stack()\n",
    "    for char in string:\n",
    "        s.push(char)\n",
    "    rev_string = ''\n",
    "    for i in range(s.size()):\n",
    "        rev_string += s.container.pop()\n",
    "    print(rev_string)\n",
    "\n",
    "reverse_string(\"We will conquere COVID-19\")"
   ]
  },
  {
   "cell_type": "code",
   "execution_count": 30,
   "metadata": {},
   "outputs": [
    {
     "data": {
      "text/plain": [
       "True"
      ]
     },
     "execution_count": 30,
     "metadata": {},
     "output_type": "execute_result"
    }
   ],
   "source": [
    "def is_balanced(string):\n",
    "    s = Stack()\n",
    "    brackets_open = ['(','{','[']\n",
    "    brackets_close = [')','}',']']\n",
    "    for char in string:\n",
    "        try:\n",
    "            if char in brackets_open:\n",
    "                s.push(char)\n",
    "            if char in brackets_close:\n",
    "                s.container.pop()\n",
    "        except:\n",
    "            return False\n",
    "    return s.size() == 0\n",
    "\n",
    "# is_balanced(\"({a+b})\") \n",
    "# is_balanced(\"))((a+b}{\")\n",
    "# is_balanced(\"((a+b))\")\n",
    "# is_balanced(\"))\")\n",
    "is_balanced(\"[a+b]*(x+2y)*{gg+kk}\")\n",
    "        "
   ]
  }
 ],
 "metadata": {
  "kernelspec": {
   "display_name": "Python 3",
   "language": "python",
   "name": "python3"
  },
  "language_info": {
   "codemirror_mode": {
    "name": "ipython",
    "version": 3
   },
   "file_extension": ".py",
   "mimetype": "text/x-python",
   "name": "python",
   "nbconvert_exporter": "python",
   "pygments_lexer": "ipython3",
   "version": "3.13.0"
  }
 },
 "nbformat": 4,
 "nbformat_minor": 2
}
