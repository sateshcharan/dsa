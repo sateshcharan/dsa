{
 "cells": [
  {
   "cell_type": "code",
   "execution_count": 1,
   "metadata": {},
   "outputs": [],
   "source": [
    "from collections import deque\n",
    "\n",
    "class queue:\n",
    "    def __init__(self):\n",
    "        self.buffer = deque()\n",
    "\n",
    "    def enqueue(self, val):\n",
    "        self.buffer.appendleft(val)\n",
    "\n",
    "    def dequeue(self):\n",
    "        self.buffer.pop()\n",
    "\n",
    "    def peek(self):\n",
    "        self.buffer.peek[-1]\n",
    "\n",
    "    def is_empty(self):\n",
    "        return len(self.buffer) == 0\n",
    "    \n",
    "    def size(self):\n",
    "        return len(self.buffer)"
   ]
  },
  {
   "cell_type": "code",
   "execution_count": 2,
   "metadata": {},
   "outputs": [
    {
     "name": "stdout",
     "output_type": "stream",
     "text": [
      "deque(['3', '2', '1'])\n",
      "deque(['3', '2'])\n",
      "deque(['3'])\n"
     ]
    }
   ],
   "source": [
    "q = queue()\n",
    "q.enqueue('1')\n",
    "q.enqueue('2')\n",
    "q.enqueue('3')\n",
    "print(q.buffer)\n",
    "q.dequeue()\n",
    "print(q.buffer)\n",
    "q.dequeue()\n",
    "print(q.buffer)\n",
    "q.dequeue()\n"
   ]
  }
 ],
 "metadata": {
  "kernelspec": {
   "display_name": "Python 3",
   "language": "python",
   "name": "python3"
  },
  "language_info": {
   "codemirror_mode": {
    "name": "ipython",
    "version": 3
   },
   "file_extension": ".py",
   "mimetype": "text/x-python",
   "name": "python",
   "nbconvert_exporter": "python",
   "pygments_lexer": "ipython3",
   "version": "3.13.0"
  }
 },
 "nbformat": 4,
 "nbformat_minor": 2
}
