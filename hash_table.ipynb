{
 "cells": [
  {
   "cell_type": "code",
   "execution_count": null,
   "metadata": {},
   "outputs": [],
   "source": [
    "class hash_table:\n",
    "    def __init__(self):\n",
    "        self.MAX = 100\n",
    "        self.arr = [[] for i in range(self.MAX)]\n",
    "  \n",
    "    def get_hash(self, key):\n",
    "        h = 0\n",
    "        for char in key:\n",
    "            h += ord(char)\n",
    "        return h % self.MAX\n",
    "\n",
    "    def __setitem__(self, key, val):\n",
    "        h = self.get_hash(key)\n",
    "        found = False\n",
    "        for idx,element in enumerate(self.arr[h]):\n",
    "            if len(element) == 2 and element[0] == key:\n",
    "                self.arr[h][idx] = (key, val)\n",
    "                found = True\n",
    "        if not found:\n",
    "            self.arr[h].append((key, val))\n",
    "\n",
    "    def __getitem__(self, key):\n",
    "        h = self.get_hash(key)\n",
    "        for element in self.arr[h]:\n",
    "            if element[0] == key:\n",
    "                return element[1]\n",
    "    \n",
    "    def __delitem__(self, key):\n",
    "        h = self.get_hash(key)\n",
    "        for idx, element in enumerate(self.arr[h]):\n",
    "            if element[0] == key:\n",
    "                del self.arr[h][idx]\n"
   ]
  },
  {
   "cell_type": "code",
   "execution_count": null,
   "metadata": {},
   "outputs": [],
   "source": []
  },
  {
   "cell_type": "code",
   "execution_count": 47,
   "metadata": {},
   "outputs": [
    {
     "name": "stdout",
     "output_type": "stream",
     "text": [
      "120\n"
     ]
    },
    {
     "data": {
      "text/plain": [
       "[[], [], [('hello', 101)], [], [], [], [], [], [], [('march 17', 120)]]"
      ]
     },
     "execution_count": 47,
     "metadata": {},
     "output_type": "execute_result"
    }
   ],
   "source": [
    "h = hash_table()\n",
    "h['march 6'] = 100\n",
    "h['march 17'] = 100\n",
    "h['march 17'] = 120\n",
    "h['hello'] = 100\n",
    "h['hello'] = 101\n",
    "print(h['march 17'])\n",
    "del(h['march 6'])\n",
    "h.arr"
   ]
  }
 ],
 "metadata": {
  "kernelspec": {
   "display_name": "Python 3",
   "language": "python",
   "name": "python3"
  },
  "language_info": {
   "codemirror_mode": {
    "name": "ipython",
    "version": 3
   },
   "file_extension": ".py",
   "mimetype": "text/x-python",
   "name": "python",
   "nbconvert_exporter": "python",
   "pygments_lexer": "ipython3",
   "version": "3.12.3"
  }
 },
 "nbformat": 4,
 "nbformat_minor": 2
}
