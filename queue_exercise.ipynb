{
 "cells": [
  {
   "cell_type": "code",
   "execution_count": 49,
   "metadata": {},
   "outputs": [
    {
     "name": "stdout",
     "output_type": "stream",
     "text": [
      "placing order for pizza\n"
     ]
    },
    {
     "name": "stdout",
     "output_type": "stream",
     "text": [
      "placing order for samosa\n",
      "serving pizza\n",
      "placing order for pasta\n",
      "placing order for biriyani\n",
      "placing order for burger\n",
      "serving samosa\n",
      "serving pasta\n",
      "serving biriyani\n",
      "serving burger\n"
     ]
    }
   ],
   "source": [
    "import time\n",
    "import threading\n",
    "from collections import deque\n",
    "\n",
    "class queue:\n",
    "    def __init__ (self):\n",
    "        self.buffer = deque()\n",
    "\n",
    "    def enqueue(self, val):\n",
    "        self.buffer.appendleft(val)\n",
    "\n",
    "    def dequeue(self):\n",
    "        return self.buffer.pop()\n",
    "\n",
    "    def peek(self):\n",
    "        return self.buffer[-1]\n",
    "\n",
    "    def is_empty(self):\n",
    "        return len(self.buffer) == 0\n",
    "\n",
    "    def size(self):\n",
    "        return len(self.buffer)\n",
    "\n",
    "food_order_queue = queue()\n",
    "\n",
    "def place_order(orders):\n",
    "    for order in orders:\n",
    "        print(f'placing order for {order}')\n",
    "        food_order_queue.enqueue(order)\n",
    "        time.sleep(0.5)\n",
    "\n",
    "def serve_order():\n",
    "    time.sleep(1)\n",
    "    while True:\n",
    "        try:\n",
    "            order = food_order_queue.dequeue()\n",
    "            print(f'serving {order}')\n",
    "            time.sleep(2)\n",
    "        except:\n",
    "            print('dinner service is over')\n",
    "\n",
    "t1 = threading.Thread(target=place_order, args=(orders,))\n",
    "t2 = threading.Thread(target=serve_order)\n",
    "\n",
    "orders = ['pizza', 'samosa', 'pasta', 'biriyani', 'burger']\n",
    "\n",
    "t1.start()\n",
    "t2.start()\n"
   ]
  }
 ],
 "metadata": {
  "kernelspec": {
   "display_name": "Python 3",
   "language": "python",
   "name": "python3"
  },
  "language_info": {
   "codemirror_mode": {
    "name": "ipython",
    "version": 3
   },
   "file_extension": ".py",
   "mimetype": "text/x-python",
   "name": "python",
   "nbconvert_exporter": "python",
   "pygments_lexer": "ipython3",
   "version": "3.13.0"
  }
 },
 "nbformat": 4,
 "nbformat_minor": 2
}
