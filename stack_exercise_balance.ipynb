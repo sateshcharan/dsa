{
 "cells": [
  {
   "cell_type": "code",
   "execution_count": 19,
   "metadata": {},
   "outputs": [],
   "source": [
    "from collections import deque\n",
    "\n",
    "class stack:\n",
    "    def __init__(self):\n",
    "        self.container = deque()\n",
    "\n",
    "    def push(self, key):\n",
    "        self.container.append(key)\n",
    "\n",
    "    def pop(self):\n",
    "        return self.container.pop()\n",
    "\n",
    "    def peek(self):\n",
    "        return self.container[-1]\n",
    "    \n",
    "    def is_empty(self):\n",
    "        return len(self.container)==0\n",
    "    \n",
    "    def size(self):\n",
    "        return len(self.container)"
   ]
  },
  {
   "cell_type": "code",
   "execution_count": 20,
   "metadata": {},
   "outputs": [],
   "source": [
    "def is_balanced(string):\n",
    "    matching_brackets = {'(': ')', '{': '}', '[': ']'}\n",
    "    s = stack()  # Using the stack class defined earlier\n",
    "    \n",
    "    for char in string:\n",
    "        if char in '({[':  # Push opening brackets onto the stack\n",
    "            s.push(char)\n",
    "        elif char in ')}]':  # Handle closing brackets\n",
    "            if s.is_empty():  # If stack is empty, it's unbalanced\n",
    "                return \"unbalanced\"\n",
    "            if matching_brackets[s.peek()] == char:  # Check for a valid match\n",
    "                s.pop()\n",
    "            else:\n",
    "                return \"unbalanced\"  # Mismatch found\n",
    "    \n",
    "    return \"balanced\" if s.is_empty() else \"unbalanced\"\n"
   ]
  },
  {
   "cell_type": "code",
   "execution_count": 21,
   "metadata": {},
   "outputs": [
    {
     "data": {
      "text/plain": [
       "'balanced'"
      ]
     },
     "execution_count": 21,
     "metadata": {},
     "output_type": "execute_result"
    }
   ],
   "source": [
    "is_balanced(\"({a+b})\")"
   ]
  }
 ],
 "metadata": {
  "kernelspec": {
   "display_name": "Python 3",
   "language": "python",
   "name": "python3"
  },
  "language_info": {
   "codemirror_mode": {
    "name": "ipython",
    "version": 3
   },
   "file_extension": ".py",
   "mimetype": "text/x-python",
   "name": "python",
   "nbconvert_exporter": "python",
   "pygments_lexer": "ipython3",
   "version": "3.13.0"
  }
 },
 "nbformat": 4,
 "nbformat_minor": 2
}
