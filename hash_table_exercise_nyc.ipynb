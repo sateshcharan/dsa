{
 "cells": [
  {
   "cell_type": "code",
   "execution_count": 212,
   "metadata": {},
   "outputs": [],
   "source": [
    "from datetime import datetime\n",
    "\n",
    "class nyc_weather_list:\n",
    "    def __init__(self):\n",
    "        self.arr = []\n",
    "        with open('./res/nyc_weather.csv', 'r') as f:\n",
    "            for idx, line in enumerate(f):\n",
    "                if idx == 0:\n",
    "                    continue\n",
    "                else:\n",
    "                    tokens = line.split(',')\n",
    "                    date = tokens[0]\n",
    "                    temprature = int(tokens[1].split(\"\\n\")[0])\n",
    "                    self.arr.append((date,temprature))\n",
    "\n",
    "    def get_avg(self, start_date, end_date):  \n",
    "        startDate = datetime.strptime(start_date, '%b %d')\n",
    "        endDate = datetime.strptime(end_date, '%b %d')\n",
    "        count = 0\n",
    "        temp_sum = 0\n",
    "        for data in self.arr:\n",
    "            currDate = datetime.strptime(data[0], '%b %d')\n",
    "            if startDate <= currDate <= endDate:\n",
    "                temp_sum += data[1]\n",
    "                count += 1\n",
    "        return temp_sum/count\n",
    "\n",
    "    def get_max(self, start_date, end_date):\n",
    "        startDate = datetime.strptime(start_date, '%b %d')\n",
    "        endDate = datetime.strptime(end_date, '%b %d')\n",
    "        max = 0\n",
    "        for data in self.arr:\n",
    "            currDate = datetime.strptime(data[0], '%b %d')\n",
    "            if startDate <= currDate <= endDate and data[1] > max:\n",
    "                max = data[1]\n",
    "        return max    "
   ]
  },
  {
   "cell_type": "code",
   "execution_count": 213,
   "metadata": {},
   "outputs": [
    {
     "name": "stdout",
     "output_type": "stream",
     "text": [
      "31.285714285714285\n"
     ]
    },
    {
     "data": {
      "text/plain": [
       "38"
      ]
     },
     "execution_count": 213,
     "metadata": {},
     "output_type": "execute_result"
    }
   ],
   "source": [
    "h = nyc_weather_list()\n",
    "\n",
    "print(h.get_avg('Jan 1', 'Jan 7'))\n",
    "h.get_max('Jan 1', 'Jan 10')\n"
   ]
  },
  {
   "cell_type": "code",
   "execution_count": 214,
   "metadata": {},
   "outputs": [],
   "source": [
    "class nyc_weather_htable():\n",
    "    def __init__(self):\n",
    "        self.arr = {}\n",
    "        with open('./res/nyc_weather.csv', 'r') as f:\n",
    "            for idx, line in enumerate(f):\n",
    "                if idx != 0:\n",
    "                    tokens = line.split(',')\n",
    "                    date = tokens[0]\n",
    "                    temprature = int(tokens[1].split('\\n')[0])\n",
    "                    self.arr[date] = temprature\n",
    "\n",
    "    def __getitem__(self, key):\n",
    "        return self.arr[key]"
   ]
  },
  {
   "cell_type": "code",
   "execution_count": 215,
   "metadata": {},
   "outputs": [
    {
     "data": {
      "text/plain": [
       "34"
      ]
     },
     "execution_count": 215,
     "metadata": {},
     "output_type": "execute_result"
    }
   ],
   "source": [
    "h1 = nyc_weather_htable()\n",
    "\n",
    "h1.arr\n",
    "h1['Jan 9']\n",
    "h1['Jan 4']\n",
    "\n"
   ]
  }
 ],
 "metadata": {
  "kernelspec": {
   "display_name": "Python 3",
   "language": "python",
   "name": "python3"
  },
  "language_info": {
   "codemirror_mode": {
    "name": "ipython",
    "version": 3
   },
   "file_extension": ".py",
   "mimetype": "text/x-python",
   "name": "python",
   "nbconvert_exporter": "python",
   "pygments_lexer": "ipython3",
   "version": "3.12.3"
  }
 },
 "nbformat": 4,
 "nbformat_minor": 2
}
